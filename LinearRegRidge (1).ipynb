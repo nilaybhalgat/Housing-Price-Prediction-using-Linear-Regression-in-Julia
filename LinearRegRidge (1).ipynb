{
 "cells": [
  {
   "cell_type": "code",
   "execution_count": 1,
   "metadata": {},
   "outputs": [
    {
     "name": "stdout",
     "output_type": "stream",
     "text": [
      "\u001b[32m\u001b[1m  Updating\u001b[22m\u001b[39m registry at `/srv/julia/pkg/registries/General`\n",
      "\u001b[32m\u001b[1m  Updating\u001b[22m\u001b[39m git-repo `https://github.com/JuliaRegistries/General.git`\n",
      "\u001b[?25l\u001b[2K\u001b[?25h\u001b[32m\u001b[1m Resolving\u001b[22m\u001b[39m package versions...\n",
      "\u001b[32m\u001b[1m  Updating\u001b[22m\u001b[39m `~/Project.toml`\n",
      "\u001b[90m [no changes]\u001b[39m\n",
      "\u001b[32m\u001b[1m  Updating\u001b[22m\u001b[39m `~/Manifest.toml`\n",
      "\u001b[90m [no changes]\u001b[39m\n",
      "\u001b[32m\u001b[1m Resolving\u001b[22m\u001b[39m package versions...\n",
      "\u001b[32m\u001b[1m  Updating\u001b[22m\u001b[39m `~/Project.toml`\n",
      "\u001b[90m [no changes]\u001b[39m\n",
      "\u001b[32m\u001b[1m  Updating\u001b[22m\u001b[39m `~/Manifest.toml`\n",
      "\u001b[90m [no changes]\u001b[39m\n",
      "\u001b[32m\u001b[1m Resolving\u001b[22m\u001b[39m package versions...\n",
      "\u001b[32m\u001b[1m  Updating\u001b[22m\u001b[39m `~/Project.toml`\n",
      "\u001b[90m [no changes]\u001b[39m\n",
      "\u001b[32m\u001b[1m  Updating\u001b[22m\u001b[39m `~/Manifest.toml`\n",
      "\u001b[90m [no changes]\u001b[39m\n",
      "\u001b[32m\u001b[1m Resolving\u001b[22m\u001b[39m package versions...\n",
      "\u001b[32m\u001b[1m  Updating\u001b[22m\u001b[39m `~/Project.toml`\n",
      "\u001b[90m [no changes]\u001b[39m\n",
      "\u001b[32m\u001b[1m  Updating\u001b[22m\u001b[39m `~/Manifest.toml`\n",
      "\u001b[90m [no changes]\u001b[39m\n",
      "\u001b[32m\u001b[1m Resolving\u001b[22m\u001b[39m package versions...\n",
      "\u001b[32m\u001b[1m  Updating\u001b[22m\u001b[39m `~/Project.toml`\n",
      "\u001b[90m [no changes]\u001b[39m\n",
      "\u001b[32m\u001b[1m  Updating\u001b[22m\u001b[39m `~/Manifest.toml`\n",
      "\u001b[90m [no changes]\u001b[39m\n"
     ]
    },
    {
     "name": "stderr",
     "output_type": "stream",
     "text": [
      "┌ Info: Precompiling Plots [91a5bcdd-55d7-5caf-9e0b-520d859cae80]\n",
      "└ @ Base loading.jl:1273\n"
     ]
    }
   ],
   "source": [
    "import Pkg\n",
    "Pkg.add(\"CSV\")\n",
    "Pkg.add(\"LinearAlgebra\")\n",
    "Pkg.add(\"Statistics\")\n",
    "Pkg.add(\"Plots\")\n",
    "Pkg.add(\"DataFrames\")\n",
    "using CSV\n",
    "using Plots\n",
    "using Statistics\n",
    "using LinearAlgebra\n",
    "using DataFrames"
   ]
  },
  {
   "cell_type": "code",
   "execution_count": 2,
   "metadata": {},
   "outputs": [],
   "source": [
    "dataset = CSV.read(\"housingPriceData.csv\");\n"
   ]
  },
  {
   "cell_type": "code",
   "execution_count": 3,
   "metadata": {},
   "outputs": [],
   "source": [
    "bedrooms=dataset.bedrooms;\n",
    "bathrooms=dataset.bathrooms;\n",
    "sqft_living=dataset.sqft_living;\n",
    "Y=dataset.price;\n",
    "\n",
    "function scale_features(s)\n",
    "\n",
    "   μ = mean(s, dims=1);\n",
    "\n",
    "   σ = std(s, dims=1);\n",
    "\n",
    " \n",
    "\n",
    "   s_norm = (s .- μ) ./ σ;\n",
    "\n",
    " \n",
    "\n",
    "    return (s_norm)\n",
    "\n",
    "end\n",
    "bedrooms=scale_features(bedrooms);\n",
    "bathrooms=scale_features(bathrooms);\n",
    "sqft_living=scale_features(sqft_living);\n"
   ]
  },
  {
   "cell_type": "code",
   "execution_count": 4,
   "metadata": {},
   "outputs": [],
   "source": [
    "trainset = round(0.6*length(bedrooms));\n",
    "crossvalidationset = round(0.2*length(bedrooms));\n",
    "bedrooms_training = bedrooms[1:Int(trainset)];\n",
    "bedrooms_validation = bedrooms[1+Int(trainset):1+Int(trainset)+Int(crossvalidationset)];\n",
    "bedrooms_test = bedrooms[2+Int(trainset)+Int(crossvalidationset):length(bedrooms)];\n",
    "bathrooms_training = bathrooms[1:Int(trainset)];\n",
    "bathrooms_validation = bathrooms[1+Int(trainset):1+Int(trainset)+Int(crossvalidationset)];\n",
    "bathrooms_test = bathrooms[2+Int(trainset)+Int(crossvalidationset):length(bedrooms)];\n",
    "sqft_living_training = sqft_living[1:Int(trainset)];\n",
    "sqft_living_validation = sqft_living[1+Int(trainset):1+Int(trainset)+Int(crossvalidationset)];\n",
    "sqft_living_test = sqft_living[2+Int(trainset)+Int(crossvalidationset):length(bedrooms)];\n",
    "Y_training = Y[1:Int(trainset)];\n",
    "Y_validation = Y[1+Int(trainset):1+Int(trainset)+Int(crossvalidationset)];\n",
    "Y_test = Y[2+Int(trainset)+Int(crossvalidationset):length(bedrooms)];\n"
   ]
  },
  {
   "cell_type": "code",
   "execution_count": 5,
   "metadata": {},
   "outputs": [],
   "source": [
    "m_total = length(bedrooms);\n",
    "x0_total = ones(m_total);\n",
    "X_total = cat(x0_total,bedrooms,bathrooms,sqft_living,dims=2);\n",
    "m_training = length(bedrooms_training);\n",
    "x0_training = ones(m_training);\n",
    "X_training = cat(x0_training, bedrooms_training, bathrooms_training, sqft_living_training, dims=2);\n",
    "m_validation = length(bedrooms_validation);\n",
    "x0_validation = ones(m_validation);\n",
    "X_validation = cat(x0_validation, bedrooms_validation, bathrooms_validation, sqft_living_validation, dims=2);\n",
    "m_test = length(bedrooms_test);\n",
    "x0_test = ones(m_test);\n",
    "X_test = cat(x0_test, bedrooms_test, bathrooms_test, sqft_living_test, dims=2);"
   ]
  },
  {
   "cell_type": "code",
   "execution_count": 22,
   "metadata": {},
   "outputs": [
    {
     "data": {
      "text/plain": [
       "costFunctionRidge (generic function with 1 method)"
      ]
     },
     "execution_count": 22,
     "metadata": {},
     "output_type": "execute_result"
    }
   ],
   "source": [
    "function costFunctionRidge(X,Y,Theta,lambda)\n",
    "    m=length(Y)\n",
    "    #thetan=Theta\n",
    "    #thetan[1]=0\n",
    "    cost = (1/(2*m))*sum(((X*Theta)-Y).^2)+(lambda/(2*m))*sum((Theta).^2)\n",
    "    \n",
    "    return cost\n",
    "end"
   ]
  },
  {
   "cell_type": "code",
   "execution_count": 23,
   "metadata": {},
   "outputs": [],
   "source": [
    "Theta = zeros(4,1);\n"
   ]
  },
  {
   "cell_type": "code",
   "execution_count": 26,
   "metadata": {},
   "outputs": [
    {
     "data": {
      "text/plain": [
       "gradientDescentRidge (generic function with 1 method)"
      ]
     },
     "execution_count": 26,
     "metadata": {},
     "output_type": "execute_result"
    }
   ],
   "source": [
    "function gradientDescentRidge(X,Y,Theta,lr,numIteration,lambda)\n",
    "    m=length(Y)\n",
    "    costHistory = zeros(numIteration);\n",
    "    #thetan=Theta\n",
    "    #thetan[1]=0\n",
    "    \n",
    "    for iteration in 1:numIteration\n",
    "        loss = (X*Theta) - Y;\n",
    "        gradient = (X' * loss)/m + (lambda/m)*Theta ;\n",
    "        \n",
    "        Theta = Theta - lr*gradient;\n",
    "        cost = costFunctionRidge(X,Y,Theta,lambda);\n",
    "        costHistory[iteration] = cost;\n",
    "    end\n",
    "   \n",
    "\n",
    "    return Theta , costHistory \n",
    "end"
   ]
  },
  {
   "cell_type": "code",
   "execution_count": 45,
   "metadata": {},
   "outputs": [
    {
     "data": {
      "text/plain": [
       "([536837.489600732; -51557.47592921969; 16863.156855259294; 272483.2784004962], [2.056830267694604e11, 2.0205084632836423e11, 1.9850588448580328e11, 1.9504572583156152e11, 1.9166803284834723e11, 1.8837054305873056e11, 1.8515106628578076e11, 1.8200748202265204e11, 1.789377369065719e11, 1.7593984229287906e11  …  3.5163957865437256e10, 3.516376940827953e10, 3.516358187177768e10, 3.516339525133594e10, 3.516320954238245e10, 3.516302474036915e10, 3.5162840840771576e10, 3.516265783908879e10, 3.5162475730843216e10, 3.51622945115805e10])"
      ]
     },
     "execution_count": 45,
     "metadata": {},
     "output_type": "execute_result"
    }
   ],
   "source": [
    "lr =0.01\n",
    "lambda = 100\n",
    "newTheta ,costHistory = gradientDescentRidge(X_training,Y_training,Theta,lr,1000,lambda)"
   ]
  },
  {
   "cell_type": "code",
   "execution_count": 46,
   "metadata": {},
   "outputs": [
    {
     "data": {
      "text/plain": [
       "(258431.80587440537, 0.5139010787381328)"
      ]
     },
     "execution_count": 46,
     "metadata": {},
     "output_type": "execute_result"
    }
   ],
   "source": [
    "function cal(X,Y,Theta)\n",
    "    m = length(Y)\n",
    "    Ybar=mean(Y)*ones(m)\n",
    "    RMSE=sqrt(sum((1/m)*((X*Theta-Y).^2)))\n",
    "    R2=1-(sum((X*Theta-Y).^2)/sum((Y-Ybar).^2))    \n",
    "    return RMSE,R2\n",
    "end\n",
    "RMSE ,R2 = cal(X_test,Y_test,newTheta)"
   ]
  },
  {
   "cell_type": "code",
   "execution_count": 47,
   "metadata": {},
   "outputs": [],
   "source": [
    "Y_Pred_training = X_training*newTheta;\n",
    "Y_Pred_validation= X_validation*newTheta;\n",
    "Y_Pred_test = X_test*newTheta;\n",
    "Y_Pred = X_total*newTheta;"
   ]
  },
  {
   "cell_type": "code",
   "execution_count": 50,
   "metadata": {},
   "outputs": [
    {
     "data": {
      "text/plain": [
       "\"2a.csv\""
      ]
     },
     "execution_count": 50,
     "metadata": {},
     "output_type": "execute_result"
    }
   ],
   "source": [
    "df = DataFrame(Y_Pred)\n",
    "CSV.write(\"2a.csv\", df)"
   ]
  },
  {
   "cell_type": "code",
   "execution_count": null,
   "metadata": {},
   "outputs": [],
   "source": []
  }
 ],
 "metadata": {
  "kernelspec": {
   "display_name": "Julia 1.3.1",
   "language": "julia",
   "name": "julia-1.3"
  },
  "language_info": {
   "file_extension": ".jl",
   "mimetype": "application/julia",
   "name": "julia",
   "version": "1.3.1"
  }
 },
 "nbformat": 4,
 "nbformat_minor": 4
}
