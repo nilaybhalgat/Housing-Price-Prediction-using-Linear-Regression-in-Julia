{
 "cells": [
  {
   "cell_type": "code",
   "execution_count": 1,
   "metadata": {},
   "outputs": [
    {
     "name": "stdout",
     "output_type": "stream",
     "text": [
      "\u001b[32m\u001b[1m  Updating\u001b[22m\u001b[39m registry at `/srv/julia/pkg/registries/General`\n",
      "\u001b[32m\u001b[1m  Updating\u001b[22m\u001b[39m git-repo `https://github.com/JuliaRegistries/General.git`\n",
      "\u001b[?25l\u001b[2K\u001b[?25h\u001b[32m\u001b[1m Resolving\u001b[22m\u001b[39m package versions...\n",
      "\u001b[32m\u001b[1m  Updating\u001b[22m\u001b[39m `~/Project.toml`\n",
      "\u001b[90m [no changes]\u001b[39m\n",
      "\u001b[32m\u001b[1m  Updating\u001b[22m\u001b[39m `~/Manifest.toml`\n",
      "\u001b[90m [no changes]\u001b[39m\n",
      "\u001b[32m\u001b[1m Resolving\u001b[22m\u001b[39m package versions...\n",
      "\u001b[32m\u001b[1m  Updating\u001b[22m\u001b[39m `~/Project.toml`\n",
      "\u001b[90m [no changes]\u001b[39m\n",
      "\u001b[32m\u001b[1m  Updating\u001b[22m\u001b[39m `~/Manifest.toml`\n",
      "\u001b[90m [no changes]\u001b[39m\n",
      "\u001b[32m\u001b[1m Resolving\u001b[22m\u001b[39m package versions...\n",
      "\u001b[32m\u001b[1m  Updating\u001b[22m\u001b[39m `~/Project.toml`\n",
      "\u001b[90m [no changes]\u001b[39m\n",
      "\u001b[32m\u001b[1m  Updating\u001b[22m\u001b[39m `~/Manifest.toml`\n",
      "\u001b[90m [no changes]\u001b[39m\n",
      "\u001b[32m\u001b[1m Resolving\u001b[22m\u001b[39m package versions...\n",
      "\u001b[32m\u001b[1m  Updating\u001b[22m\u001b[39m `~/Project.toml`\n",
      "\u001b[90m [no changes]\u001b[39m\n",
      "\u001b[32m\u001b[1m  Updating\u001b[22m\u001b[39m `~/Manifest.toml`\n",
      "\u001b[90m [no changes]\u001b[39m\n"
     ]
    }
   ],
   "source": [
    "import Pkg\n",
    "Pkg.add(\"CSV\")\n",
    "Pkg.add(\"LinearAlgebra\")\n",
    "Pkg.add(\"Statistics\")\n",
    "Pkg.add(\"DataFrames\")\n",
    "using CSV\n",
    "using Statistics\n",
    "using LinearAlgebra\n",
    "using DataFrames"
   ]
  },
  {
   "cell_type": "code",
   "execution_count": 2,
   "metadata": {},
   "outputs": [],
   "source": [
    "dataset = CSV.read(\"housingPriceData.csv\");\n"
   ]
  },
  {
   "cell_type": "code",
   "execution_count": 3,
   "metadata": {},
   "outputs": [],
   "source": [
    "bedrooms=dataset.bedrooms;\n",
    "bathrooms=dataset.bathrooms;\n",
    "sqft_living=dataset.sqft_living/1000;\n",
    "Y=dataset.price;\n",
    "\n",
    "function scale_features(s)\n",
    "\n",
    "   μ = mean(s, dims=1);\n",
    "\n",
    "   σ = std(s, dims=1);\n",
    "\n",
    " \n",
    "\n",
    "   s_norm = (s .- μ) ./ σ;\n",
    "\n",
    " \n",
    "\n",
    "    return (s_norm)\n",
    "\n",
    "end\n",
    "bedrooms=scale_features(bedrooms);\n",
    "bathrooms=scale_features(bathrooms);\n",
    "sqft_living=scale_features(sqft_living);\n"
   ]
  },
  {
   "cell_type": "code",
   "execution_count": 4,
   "metadata": {},
   "outputs": [],
   "source": [
    "trainset = round(0.6*length(bedrooms));\n",
    "crossvalidationset = round(0.2*length(bedrooms));\n",
    "bedrooms_training = bedrooms[1:Int(trainset)];\n",
    "bedrooms_validation = bedrooms[1+Int(trainset):1+Int(trainset)+Int(crossvalidationset)];\n",
    "bedrooms_test = bedrooms[2+Int(trainset)+Int(crossvalidationset):length(bedrooms)];\n",
    "bathrooms_training = bathrooms[1:Int(trainset)];\n",
    "bathrooms_validation = bathrooms[1+Int(trainset):1+Int(trainset)+Int(crossvalidationset)];\n",
    "bathrooms_test = bathrooms[2+Int(trainset)+Int(crossvalidationset):length(bedrooms)];\n",
    "sqft_living_training = sqft_living[1:Int(trainset)];\n",
    "sqft_living_validation = sqft_living[1+Int(trainset):1+Int(trainset)+Int(crossvalidationset)];\n",
    "sqft_living_test = sqft_living[2+Int(trainset)+Int(crossvalidationset):length(bedrooms)];\n",
    "Y_training = Y[1:Int(trainset)];\n",
    "Y_validation = Y[1+Int(trainset):1+Int(trainset)+Int(crossvalidationset)];\n",
    "Y_test = Y[2+Int(trainset)+Int(crossvalidationset):length(bedrooms)];\n"
   ]
  },
  {
   "cell_type": "code",
   "execution_count": 5,
   "metadata": {},
   "outputs": [],
   "source": [
    "m_total = length(bedrooms);\n",
    "x0_total = ones(m_total);\n",
    "X_total = cat(x0_total,bedrooms,bathrooms,sqft_living,dims=2);\n",
    "m_training = length(bedrooms_training);\n",
    "x0_training = ones(m_training);\n",
    "X_training = cat(x0_training, bedrooms_training, bathrooms_training, sqft_living_training, dims=2);\n",
    "m_validation = length(bedrooms_validation);\n",
    "x0_validation = ones(m_validation);\n",
    "X_validation = cat(x0_validation, bedrooms_validation, bathrooms_validation, sqft_living_validation, dims=2);\n",
    "m_test = length(bedrooms_test);\n",
    "x0_test = ones(m_test);\n",
    "X_test = cat(x0_test, bedrooms_test, bathrooms_test, sqft_living_test, dims=2);"
   ]
  },
  {
   "cell_type": "code",
   "execution_count": 6,
   "metadata": {},
   "outputs": [
    {
     "data": {
      "text/plain": [
       "costFunctionLasoo (generic function with 1 method)"
      ]
     },
     "execution_count": 6,
     "metadata": {},
     "output_type": "execute_result"
    }
   ],
   "source": [
    "function costFunctionLasoo(X,Y,Theta,lambda)\n",
    "    m = length(Y)\n",
    "    thetan=abs.(Theta)\n",
    "    thetan[1]=0\n",
    "    \n",
    "    cost = (1/(2*m))*sum(((X*Theta)-Y).^2)+(lambda/(2*m))*sum((thetan))\n",
    "    return cost\n",
    "end\n"
   ]
  },
  {
   "cell_type": "code",
   "execution_count": 8,
   "metadata": {},
   "outputs": [],
   "source": [
    "Theta = zeros(4,1);\n"
   ]
  },
  {
   "cell_type": "code",
   "execution_count": 9,
   "metadata": {},
   "outputs": [
    {
     "data": {
      "text/plain": [
       "gradientDescentLasoo (generic function with 1 method)"
      ]
     },
     "execution_count": 9,
     "metadata": {},
     "output_type": "execute_result"
    }
   ],
   "source": [
    "function gradientDescentLasoo(X,Y,Theta,lr,numIteration,lambda)\n",
    "    m = length(Y)\n",
    "    costHistory = zeros(numIteration);\n",
    "    thetang=(abs.(Theta))./Theta\n",
    "    thetang[1]=0\n",
    "    \n",
    "    for iteration in 1:numIteration\n",
    "        loss = (X*Theta) - Y;\n",
    "        gradient = (X' * loss)/m + (lambda/m)*ones(size(Theta)) ;\n",
    "        Theta = Theta - lr*gradient;\n",
    "        cost = costFunctionLasoo(X,Y,Theta,lambda);\n",
    "        costHistory[iteration] = cost;\n",
    "    end\n",
    "    return Theta , costHistory \n",
    "end"
   ]
  },
  {
   "cell_type": "code",
   "execution_count": 12,
   "metadata": {},
   "outputs": [
    {
     "data": {
      "text/plain": [
       "([540988.5387039847; -53545.010160098514; 15206.198919284403; 276892.889515892], [2.056828825842131e11, 2.020499943442843e11, 1.9850378819281564e11, 1.9504187469627164e11, 1.9166194123571613e11, 1.8836174920003192e11, 1.8513913129072418e11, 1.819919889336575e11, 1.7891828979327634e11, 1.7591606538504742e11  …  3.3721069407155838e10, 3.3720849739639217e10, 3.372063111146034e10, 3.372041351758723e10, 3.372019695301337e10, 3.3719981412757557e10, 3.3719766891863766e10, 3.3719553385401043e10, 3.371934088846331e10, 3.37191293961693e10])"
      ]
     },
     "execution_count": 12,
     "metadata": {},
     "output_type": "execute_result"
    }
   ],
   "source": [
    "lr =0.01;\n",
    "lambda = 200;\n",
    "newTheta ,costHistory = gradientDescentLasoo(X_training,Y_training,Theta,lr,1000,lambda)"
   ]
  },
  {
   "cell_type": "code",
   "execution_count": 11,
   "metadata": {},
   "outputs": [
    {
     "data": {
      "text/plain": [
       "(258519.55627074925, 0.5135709133804711)"
      ]
     },
     "execution_count": 11,
     "metadata": {},
     "output_type": "execute_result"
    }
   ],
   "source": [
    "\n",
    "function cal(X,Y,Theta)\n",
    "    m = length(Y)\n",
    "    Ybar=mean(Y)*ones(m)\n",
    "    RMSE=sqrt(sum((1/m)*((X*Theta-Y).^2)))\n",
    "    R2=1-(sum((X*Theta-Y).^2)/sum((Y-Ybar).^2))    \n",
    "    return RMSE,R2\n",
    "end\n",
    "RMSE ,R2 = cal(X_test,Y_test,newTheta)"
   ]
  },
  {
   "cell_type": "code",
   "execution_count": 13,
   "metadata": {},
   "outputs": [],
   "source": [
    "Y_Pred_training = X_training*newTheta;\n",
    "Y_Pred_validation= X_validation*newTheta;\n",
    "Y_Pred_test = X_test*newTheta;\n",
    "Y_Pred = X_total*newTheta;"
   ]
  },
  {
   "cell_type": "code",
   "execution_count": 14,
   "metadata": {},
   "outputs": [
    {
     "data": {
      "text/plain": [
       "\"2b.csv\""
      ]
     },
     "execution_count": 14,
     "metadata": {},
     "output_type": "execute_result"
    }
   ],
   "source": [
    "df = DataFrame(Y_Pred)\n",
    "CSV.write(\"2b.csv\", df)"
   ]
  },
  {
   "cell_type": "code",
   "execution_count": null,
   "metadata": {},
   "outputs": [],
   "source": []
  }
 ],
 "metadata": {
  "kernelspec": {
   "display_name": "Julia 1.3.1",
   "language": "julia",
   "name": "julia-1.3"
  },
  "language_info": {
   "file_extension": ".jl",
   "mimetype": "application/julia",
   "name": "julia",
   "version": "1.3.1"
  }
 },
 "nbformat": 4,
 "nbformat_minor": 4
}
