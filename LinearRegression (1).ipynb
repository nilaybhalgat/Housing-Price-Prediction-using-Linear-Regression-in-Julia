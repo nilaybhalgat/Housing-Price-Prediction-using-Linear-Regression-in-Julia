{
 "cells": [
  {
   "cell_type": "code",
   "execution_count": 2,
   "metadata": {},
   "outputs": [
    {
     "name": "stdout",
     "output_type": "stream",
     "text": [
      "\u001b[32m\u001b[1m Resolving\u001b[22m\u001b[39m package versions...\n",
      "\u001b[32m\u001b[1m  Updating\u001b[22m\u001b[39m `~/Project.toml`\n",
      "\u001b[90m [no changes]\u001b[39m\n",
      "\u001b[32m\u001b[1m  Updating\u001b[22m\u001b[39m `~/Manifest.toml`\n",
      "\u001b[90m [no changes]\u001b[39m\n",
      "\u001b[32m\u001b[1m Resolving\u001b[22m\u001b[39m package versions...\n",
      "\u001b[32m\u001b[1m  Updating\u001b[22m\u001b[39m `~/Project.toml`\n",
      "\u001b[90m [no changes]\u001b[39m\n",
      "\u001b[32m\u001b[1m  Updating\u001b[22m\u001b[39m `~/Manifest.toml`\n",
      "\u001b[90m [no changes]\u001b[39m\n",
      "\u001b[32m\u001b[1m Resolving\u001b[22m\u001b[39m package versions...\n",
      "\u001b[32m\u001b[1m  Updating\u001b[22m\u001b[39m `~/Project.toml`\n",
      "\u001b[90m [no changes]\u001b[39m\n",
      "\u001b[32m\u001b[1m  Updating\u001b[22m\u001b[39m `~/Manifest.toml`\n",
      "\u001b[90m [no changes]\u001b[39m\n",
      "\u001b[32m\u001b[1m Resolving\u001b[22m\u001b[39m package versions...\n",
      "\u001b[32m\u001b[1m  Updating\u001b[22m\u001b[39m `~/Project.toml`\n",
      "\u001b[90m [no changes]\u001b[39m\n",
      "\u001b[32m\u001b[1m  Updating\u001b[22m\u001b[39m `~/Manifest.toml`\n",
      "\u001b[90m [no changes]\u001b[39m\n"
     ]
    }
   ],
   "source": [
    "import Pkg\n",
    "Pkg.add(\"CSV\")\n",
    "Pkg.add(\"LinearAlgebra\")\n",
    "Pkg.add(\"Statistics\")\n",
    "Pkg.add(\"DataFrames\")\n",
    "using CSV\n",
    "using Statistics\n",
    "using LinearAlgebra\n",
    "using DataFrames"
   ]
  },
  {
   "cell_type": "code",
   "execution_count": 3,
   "metadata": {},
   "outputs": [],
   "source": [
    "dataset = CSV.read(\"housingPriceData.csv\");\n"
   ]
  },
  {
   "cell_type": "code",
   "execution_count": 4,
   "metadata": {},
   "outputs": [],
   "source": [
    "bedrooms=dataset.bedrooms;\n",
    "bathrooms=dataset.bathrooms;\n",
    "sqft_living=dataset.sqft_living;\n",
    "Y=dataset.price;\n",
    "\n",
    "function scale_features(s)\n",
    "\n",
    "   μ = mean(s, dims=1);\n",
    "\n",
    "   σ = std(s, dims=1);\n",
    "\n",
    " \n",
    "\n",
    "   s_norm = (s .- μ) ./ σ;\n",
    "\n",
    " \n",
    "\n",
    "    return (s_norm)\n",
    "\n",
    "end\n",
    "bedrooms=scale_features(bedrooms);\n",
    "bathrooms=scale_features(bathrooms);\n",
    "sqft_living=scale_features(sqft_living);\n"
   ]
  },
  {
   "cell_type": "code",
   "execution_count": 5,
   "metadata": {},
   "outputs": [],
   "source": [
    "trainset = round(0.8*length(bedrooms));\n",
    "bedrooms_training = bedrooms[1:Int(trainset)];\n",
    "bedrooms_test = bedrooms[Int(trainset)+1:length(bedrooms)];\n",
    "bathrooms_training = bathrooms[1:Int(trainset)];\n",
    "bathrooms_test = bathrooms[Int(trainset)+1:length(bedrooms)];\n",
    "sqft_living_training = sqft_living[1:Int(trainset)];\n",
    "sqft_living_test = sqft_living[Int(trainset)+1:length(bedrooms)];\n",
    "Y_training = Y[1:Int(trainset)];\n",
    "Y_test = Y[Int(trainset)+1:length(bedrooms)];\n"
   ]
  },
  {
   "cell_type": "code",
   "execution_count": 6,
   "metadata": {},
   "outputs": [],
   "source": [
    "m_total = length(bedrooms);\n",
    "x0_total = ones(m_total);\n",
    "X_total = cat(x0_total,bedrooms,bathrooms,sqft_living,dims=2)\n",
    "m_training = length(bedrooms_training);\n",
    "x0_training = ones(m_training);\n",
    "X_training = cat(x0_training, bedrooms_training, bathrooms_training, sqft_living_training, dims=2);\n",
    "m_test = length(bedrooms_test);\n",
    "x0_test = ones(m_test);\n",
    "X_test = cat(x0_test, bedrooms_test, bathrooms_test, sqft_living_test, dims=2);"
   ]
  },
  {
   "cell_type": "code",
   "execution_count": 7,
   "metadata": {},
   "outputs": [
    {
     "data": {
      "text/plain": [
       "costFunction (generic function with 1 method)"
      ]
     },
     "execution_count": 7,
     "metadata": {},
     "output_type": "execute_result"
    }
   ],
   "source": [
    "function costFunction(X,Y,Theta)\n",
    "    m =length(Y)\n",
    "    cost = (1/(2*m))*sum(((X*Theta)-Y).^2)\n",
    "    return cost\n",
    "end"
   ]
  },
  {
   "cell_type": "code",
   "execution_count": 8,
   "metadata": {},
   "outputs": [],
   "source": [
    "Theta = zeros(4,1);\n"
   ]
  },
  {
   "cell_type": "code",
   "execution_count": 9,
   "metadata": {},
   "outputs": [
    {
     "data": {
      "text/plain": [
       "gradientDescent (generic function with 1 method)"
      ]
     },
     "execution_count": 9,
     "metadata": {},
     "output_type": "execute_result"
    }
   ],
   "source": [
    "function gradientDescent(X,Y,Theta,lr,numIteration)\n",
    "    costHistory = zeros(numIteration);\n",
    "    m =length(Y)\n",
    "    for iteration in 1:numIteration\n",
    "        loss = (X*Theta) - Y;\n",
    "        gradient = (X' * loss)/m;\n",
    "        Theta = Theta - lr*gradient;\n",
    "        cost = costFunction(X,Y,Theta);\n",
    "        costHistory[iteration] = cost;\n",
    "    end\n",
    "    return Theta , costHistory \n",
    "end"
   ]
  },
  {
   "cell_type": "code",
   "execution_count": 10,
   "metadata": {},
   "outputs": [
    {
     "data": {
      "text/plain": [
       "([541803.8010646056; -47453.039443679605; 14492.550470918706; 273399.80373280635], [2.0539069717938306e11, 2.0174391685437537e11, 1.9818429722511337e11, 1.94709432005332e11, 1.9131699232651086e11, 1.8800472390993442e11, 1.8477044435104358e11, 1.8161204051140927e11, 1.7852746601385352e11, 1.7551473883643854e11  …  3.3209859898134796e10, 3.320964315472825e10, 3.320942741689984e10, 3.320921267990016e10, 3.320899893900313e10, 3.3208786189505844e10, 3.320857442672846e10, 3.3208363646014114e10, 3.320815384272876e10, 3.3207945012261055e10])"
      ]
     },
     "execution_count": 10,
     "metadata": {},
     "output_type": "execute_result"
    }
   ],
   "source": [
    "lr = 0.01\n",
    "newTheta, costHistory  = gradientDescent(X_training, Y_training, Theta, lr, 1000);"
   ]
  },
  {
   "cell_type": "code",
   "execution_count": 12,
   "metadata": {},
   "outputs": [
    {
     "data": {
      "text/plain": [
       "(258767.4237295701, 0.5124436851730098)"
      ]
     },
     "execution_count": 12,
     "metadata": {},
     "output_type": "execute_result"
    }
   ],
   "source": [
    "function cal(X,Y,Theta)\n",
    "    m = length(Y)\n",
    "    Ybar=mean(Y)*ones(m)\n",
    "    RMSE=sqrt(sum((1/m)*((X*Theta-Y).^2)))\n",
    "    R2=1-(sum((X*Theta-Y).^2)/sum((Y-Ybar).^2))    \n",
    "    return RMSE,R2\n",
    "end\n",
    "RMSE ,R2 = cal(X_test,Y_test,newTheta)"
   ]
  },
  {
   "cell_type": "code",
   "execution_count": 13,
   "metadata": {},
   "outputs": [],
   "source": [
    "Y_Pred = X_total*newTheta;"
   ]
  },
  {
   "cell_type": "code",
   "execution_count": 14,
   "metadata": {},
   "outputs": [
    {
     "data": {
      "text/plain": [
       "\"1a.csv\""
      ]
     },
     "execution_count": 14,
     "metadata": {},
     "output_type": "execute_result"
    }
   ],
   "source": [
    "df = DataFrame(Y_Pred)\n",
    "CSV.write(\"1a.csv\", df)"
   ]
  },
  {
   "cell_type": "code",
   "execution_count": null,
   "metadata": {},
   "outputs": [],
   "source": []
  }
 ],
 "metadata": {
  "kernelspec": {
   "display_name": "Julia 1.3.1",
   "language": "julia",
   "name": "julia-1.3"
  },
  "language_info": {
   "file_extension": ".jl",
   "mimetype": "application/julia",
   "name": "julia",
   "version": "1.3.1"
  }
 },
 "nbformat": 4,
 "nbformat_minor": 4
}
